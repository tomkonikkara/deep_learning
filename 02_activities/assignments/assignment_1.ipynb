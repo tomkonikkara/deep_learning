{
 "cells": [
  {
   "cell_type": "markdown",
   "id": "927ae8f4",
   "metadata": {},
   "source": [
    "# Assignment 1 - Building a Vision Model with Keras\n",
    "\n",
    "In this assignment, you will build a simple vision model using Keras. The goal is to classify images from the Fashion MNIST dataset, which contains images of clothing items.\n",
    "\n",
    "You will:\n",
    "1. Load and inspect the Fashion MNIST dataset.\n",
    "2. Run a simple baseline model to establish a performance benchmark.\n",
    "3. Build and evaluate a simple CNN model, choosing appropriate loss and metrics.\n",
    "4. Design and run controlled experiments on one hyperparameter (e.g., number of filters, kernel size, etc.) and one regularization technique (e.g., dropout, L2 regularization).\n",
    "5. Analyze the results and visualize the model's performance.\n",
    "\n",
    "# 1. Loading and Inspecting the Dataset\n",
    "\n",
    "Fashion MNIST is a dataset of grayscale images of clothing items, with 10 classes. Each image is 28x28 pixels, like the MNIST dataset of handwritten digits. Keras provides a convenient way to load this dataset. \n",
    "\n",
    "In this section, you should:\n",
    "\n",
    "- [ ] Inspect the shapes of the training and test sets to confirm their size and structure.\n",
    "- [ ] Convert the labels to one-hot encoded format if necessary. (There is a utility function in Keras for this.)\n",
    "- [ ] Visualize a few images from the dataset to understand what the data looks like."
   ]
  },
  {
   "cell_type": "code",
   "execution_count": 2,
   "id": "420c7178",
   "metadata": {},
   "outputs": [],
   "source": [
    "from tensorflow.keras.datasets import fashion_mnist\n",
    "(X_train, y_train), (X_test, y_test) = fashion_mnist.load_data()\n",
    "\n",
    "# Normalize the pixel values to be between 0 and 1\n",
    "X_train = X_train.astype('float32') / 255.0\n",
    "X_test = X_test.astype('float32') / 255.0\n",
    "\n",
    "# Classes in the Fashion MNIST dataset\n",
    "class_names = [\"T-shirt/top\", \"Trouser\", \"Pullover\", \"Dress\", \"Coat\", \"Sandal\", \"Shirt\", \"Sneaker\", \"Bag\", \"Ankle boot\"]"
   ]
  },
  {
   "cell_type": "code",
   "execution_count": 3,
   "id": "a6c89fe7",
   "metadata": {},
   "outputs": [
    {
     "name": "stdout",
     "output_type": "stream",
     "text": [
      "Training data shape: (60000, 28, 28) (60000,)\n",
      "Test data shape: (10000, 28, 28) (10000,)\n"
     ]
    }
   ],
   "source": [
    "# Inspect the shapes of the datasets\n",
    "print(\"Training data shape:\", X_train.shape, y_train.shape)\n",
    "print(\"Test data shape:\", X_test.shape, y_test.shape)"
   ]
  },
  {
   "cell_type": "code",
   "execution_count": 4,
   "id": "18a7b488",
   "metadata": {},
   "outputs": [],
   "source": [
    "# Convert labels to one-hot encoding\n",
    "from tensorflow.keras.utils import to_categorical\n",
    "\n",
    "y_train = to_categorical(y_train, num_classes=10)\n",
    "y_test = to_categorical(y_test, num_classes=10)"
   ]
  },
  {
   "cell_type": "code",
   "execution_count": 4,
   "id": "437374b8",
   "metadata": {},
   "outputs": [
    {
     "data": {
      "image/png": "[encoded data removed]",
      "text/plain": [
       "<Figure size 200x200 with 1 Axes>"
      ]
     },
     "metadata": {},
     "output_type": "display_data"
    },
    {
     "data": {
      "image/png": "[encoded data removed]",
      "text/plain": [
       "<Figure size 200x200 with 1 Axes>"
      ]
     },
     "metadata": {},
     "output_type": "display_data"
    },
    {
     "data": {
      "image/png": "[encoded data removed]",
      "text/plain": [
       "<Figure size 200x200 with 1 Axes>"
      ]
     },
     "metadata": {},
     "output_type": "display_data"
    },
    {
     "data": {
      "image/png": "[encoded data removed]",
      "text/plain": [
       "<Figure size 200x200 with 1 Axes>"
      ]
     },
     "metadata": {},
     "output_type": "display_data"
    },
    {
     "data": {
      "image/png": "[encoded data removed]",
      "text/plain": [
       "<Figure size 200x200 with 1 Axes>"
      ]
     },
     "metadata": {},
     "output_type": "display_data"
    }
   ],
   "source": [
    "# Visualize a few images from the dataset to understand what the data looks like.\n",
    "import matplotlib.pyplot as plt\n",
    "def plot_sample(X, y, index):\n",
    "    plt.figure(figsize=(2, 2))\n",
    "    plt.imshow(X[index], cmap='gray')\n",
    "    plt.title(class_names[y[index].argmax()])\n",
    "    plt.axis('off')\n",
    "    plt.show()\n",
    "    \n",
    "for i in range(5):\n",
    "    plot_sample(X_train, y_train, i)"
   ]
  },
  {
   "cell_type": "markdown",
   "id": "989f7dd0",
   "metadata": {},
   "source": [
    "Reflection: Does the data look as expected? How is the quality of the images? Are there any issues with the dataset that you notice?\n",
    "\n",
    "**Your answer here**\n",
    "Data looks good. Quality looks ok for the NN training"
   ]
  },
  {
   "cell_type": "markdown",
   "id": "c9e8ad60",
   "metadata": {},
   "source": [
    "# 2. Baseline Model\n",
    "\n",
    "In this section, you will create a linear regression model as a baseline. This model will not use any convolutional layers, but it will help you understand the performance of a simple model on this dataset.\n",
    "You should:\n",
    "- [ ] Create a simple linear regression model using Keras.\n",
    "- [ ] Compile the model with an appropriate loss function and optimizer.\n",
    "- [ ] Train the model on the training set and evaluate it on the test set.\n",
    "\n",
    "A linear regression model can be created using the `Sequential` API in Keras. Using a single `Dense` layer with no activation function is equivalent to a simple linear regression model. Make sure that the number of units in the output layer matches the number of classes in the dataset.\n",
    "\n",
    "Note that for this step, we will need to use `Flatten` to convert the 2D images into 1D vectors before passing them to the model. Put a `Flatten()` layer as the first layer in your model so that the 2D image data can be flattened into 1D vectors."
   ]
  },
  {
   "cell_type": "code",
   "execution_count": 5,
   "id": "e818b5ed",
   "metadata": {},
   "outputs": [
    {
     "name": "stdout",
     "output_type": "stream",
     "text": [
      "Epoch 1/5\n",
      "1875/1875 [==============================] - 9s 4ms/step - loss: 0.6030 - accuracy: 0.7976 - val_loss: 0.5077 - val_accuracy: 0.8259\n",
      "Epoch 2/5\n",
      "1875/1875 [==============================] - 7s 4ms/step - loss: 0.4622 - accuracy: 0.8420 - val_loss: 0.4724 - val_accuracy: 0.8363\n",
      "Epoch 3/5\n",
      "1875/1875 [==============================] - 8s 4ms/step - loss: 0.4367 - accuracy: 0.8487 - val_loss: 0.4619 - val_accuracy: 0.8406\n",
      "Epoch 4/5\n",
      "1875/1875 [==============================] - 8s 4ms/step - loss: 0.4225 - accuracy: 0.8531 - val_loss: 0.4589 - val_accuracy: 0.8371\n",
      "Epoch 5/5\n",
      "1875/1875 [==============================] - 8s 4ms/step - loss: 0.4136 - accuracy: 0.8569 - val_loss: 0.4528 - val_accuracy: 0.8437\n",
      "313/313 [==============================] - 1s 3ms/step - loss: 0.4528 - accuracy: 0.8437\n",
      "Test accuracy: 0.8437\n"
     ]
    }
   ],
   "source": [
    "from keras.models import Sequential\n",
    "from keras.layers import Dense, Flatten\n",
    "\n",
    "# Create a simple linear regression model\n",
    "model = Sequential()\n",
    "model.add(Flatten(input_shape=(28, 28)))  # Flatten image into 1D\n",
    "model.add(Dense(10, activation='softmax'))  # Output layer directly, no hidden layers\n",
    "\n",
    "# Compile the model\n",
    "model.compile(optimizer='adam', loss='categorical_crossentropy', metrics=['accuracy'])\n",
    "\n",
    "# Train the model\n",
    "model.fit(X_train, y_train, epochs=5, batch_size=32, validation_data=(X_test, y_test))\n",
    "\n",
    "# Evaluate the model\n",
    "test_loss, test_acc = model.evaluate(X_test, y_test)\n",
    "print(f\"Test accuracy: {test_acc:.4f}\")\n"
   ]
  },
  {
   "cell_type": "markdown",
   "id": "9a07e9f7",
   "metadata": {},
   "source": [
    "Reflection: What is the performance of the baseline model? How does it compare to what you expected? Why do you think the performance is at this level?\n",
    "\n",
    "**Your answer here**"
   ]
  },
  {
   "cell_type": "markdown",
   "id": "fa107b59",
   "metadata": {},
   "source": [
    "# 3. Building and Evaluating a Simple CNN Model\n",
    "\n",
    "In this section, you will build a simple Convolutional Neural Network (CNN) model using Keras. A convolutional neural network is a type of deep learning model that is particularly effective for image classification tasks. Unlike the basic neural networks we have built in the labs, CNNs can accept images as input without needing to flatten them into vectors.\n",
    "\n",
    "You should:\n",
    "- [ ] Build a simple CNN model with at least one convolutional layer (to learn spatial hierarchies in images) and one fully connected layer (to make predictions).\n",
    "- [ ] Compile the model with an appropriate loss function and metrics for a multi-class classification problem.\n",
    "- [ ] Train the model on the training set and evaluate it on the test set.\n",
    "\n",
    "Convolutional layers are designed to accept inputs with three dimensions: height, width and channels (e.g., RGB for color images). For grayscale images like those in Fashion MNIST, the input shape will be (28, 28, 1).\n",
    "\n",
    "When you progress from the convolutional layers to the fully connected layers, you will need to flatten the output of the convolutional layers. This can be done using the `Flatten` layer in Keras, which doesn't require any parameters."
   ]
  },
  {
   "cell_type": "code",
   "execution_count": 6,
   "id": "3513cf3d",
   "metadata": {},
   "outputs": [
    {
     "name": "stdout",
     "output_type": "stream",
     "text": [
      "Epoch 1/5\n",
      "1875/1875 [==============================] - 24s 12ms/step - loss: 0.3929 - accuracy: 0.8609 - val_loss: 0.3254 - val_accuracy: 0.8847\n",
      "Epoch 2/5\n",
      "1875/1875 [==============================] - 38s 20ms/step - loss: 0.2796 - accuracy: 0.9004 - val_loss: 0.3200 - val_accuracy: 0.8879\n",
      "Epoch 3/5\n",
      "1875/1875 [==============================] - 29s 15ms/step - loss: 0.2414 - accuracy: 0.9128 - val_loss: 0.2969 - val_accuracy: 0.8966\n",
      "Epoch 4/5\n",
      "1875/1875 [==============================] - 29s 15ms/step - loss: 0.2154 - accuracy: 0.9221 - val_loss: 0.2872 - val_accuracy: 0.9002\n",
      "Epoch 5/5\n",
      "1875/1875 [==============================] - 20s 11ms/step - loss: 0.1926 - accuracy: 0.9293 - val_loss: 0.2967 - val_accuracy: 0.8948\n",
      "313/313 [==============================] - 1s 4ms/step - loss: 0.2967 - accuracy: 0.8948\n",
      "Test accuracy: 0.8948\n"
     ]
    }
   ],
   "source": [
    "from keras.layers import Conv2D\n",
    "\n",
    "# Reshape the data to include the channel dimension\n",
    "X_train = X_train.reshape(-1, 28, 28, 1)\n",
    "X_test = X_test.reshape(-1, 28, 28, 1)\n",
    "\n",
    "# Create a simple CNN model\n",
    "model = Sequential()\n",
    "\n",
    "# Train the model\n",
    "model.add(Conv2D(32, kernel_size=(3, 3), activation='relu', input_shape=(28, 28, 1)))\n",
    "model.add(Flatten())\n",
    "model.add(Dense(10, activation='softmax'))\n",
    "\n",
    "\n",
    "# Evaluate the model\n",
    "model.compile(optimizer='adam', loss='categorical_crossentropy', metrics=['accuracy'])\n",
    "model.fit(X_train, y_train, epochs=5, batch_size=32, validation_data=(X_test, y_test))\n",
    "test_loss, test_acc = model.evaluate(X_test, y_test)\n",
    "print(f\"Test accuracy: {test_acc:.4f}\")"
   ]
  },
  {
   "cell_type": "markdown",
   "id": "fabe379c",
   "metadata": {},
   "source": [
    "Reflection: Did the CNN model perform better than the baseline model? If so, by how much? What do you think contributed to this improvement?\n",
    "\n",
    "**Your answer here**"
   ]
  },
  {
   "cell_type": "markdown",
   "id": "fde663f6",
   "metadata": {},
   "source": [
    "Accuracy of baseline model is 0.8437 and accuracy of CNN model is 89.48. Accuracy of CNN model is better."
   ]
  },
  {
   "cell_type": "markdown",
   "id": "1a5e2463",
   "metadata": {},
   "source": [
    "# 3. Designing and Running Controlled Experiments\n",
    "\n",
    "In this section, you will design and run controlled experiments to improve the model's performance. You will focus on one hyperparameter and one regularization technique.\n",
    "You should:\n",
    "- [ ] Choose one hyperparameter to experiment with (e.g., number of filters, kernel size, number of layers, etc.) and one regularization technique (e.g., dropout, L2 regularization). For your hyperparameter, you should choose at least three different values to test (but there is no upper limit). For your regularization technique, simply test the presence or absence of the technique.\n",
    "- [ ] Run experiments by modifying the model architecture or hyperparameters, and evaluate the performance of each model on the test set.\n",
    "- [ ] Record the results of your experiments, including the test accuracy and any other relevant metrics.\n",
    "- [ ] Visualize the results of your experiments using plots or tables to compare the performance of different models.\n",
    "\n",
    "The best way to run your experiments is to create a `for` loop that iterates over a range of values for the hyperparameter you are testing. For example, if you are testing different numbers of filters, you can create a loop that runs the model with 32, 64, and 128 filters. Within the loop, you can compile and train the model, then evaluate it on the test set. After each iteration, you can store the results in a list or a dictionary for later analysis.\n",
    "\n",
    "Note: It's critical that you re-initialize the model (by creating a new instance of the model) before each experiment. If you don't, the model will retain the weights from the previous experiment, which can lead to misleading results."
   ]
  },
  {
   "cell_type": "code",
   "execution_count": 9,
   "id": "99d6f46c",
   "metadata": {},
   "outputs": [
    {
     "name": "stdout",
     "output_type": "stream",
     "text": [
      "Filters: 16, Accuracy: 0.8961\n",
      "Filters: 32, Accuracy: 0.9010\n",
      "Filters: 64, Accuracy: 0.9023\n"
     ]
    }
   ],
   "source": [
    "# A. Test Hyperparameters\n",
    "filter_options = [16, 32, 64]\n",
    "results = []\n",
    "\n",
    "for num_filters in filter_options:\n",
    "    model = Sequential()\n",
    "    model.add(Conv2D(num_filters, (3, 3), activation='relu', input_shape=(28, 28, 1)))\n",
    "    model.add(Flatten())\n",
    "    model.add(Dense(64, activation='relu'))\n",
    "    model.add(Dense(10, activation='softmax'))\n",
    "\n",
    "    model.compile(optimizer='adam', loss='categorical_crossentropy', metrics=['accuracy'])\n",
    "    model.fit(X_train, y_train, epochs=3, batch_size=32, verbose=0)\n",
    "\n",
    "    test_loss, test_acc = model.evaluate(X_test, y_test, verbose=0)\n",
    "    results.append({'filters': num_filters, 'accuracy': test_acc})\n",
    "    print(f\"Filters: {num_filters}, Accuracy: {test_acc:.4f}\")"
   ]
  },
  {
   "cell_type": "code",
   "execution_count": 11,
   "id": "dc43ac81",
   "metadata": {},
   "outputs": [
    {
     "name": "stdout",
     "output_type": "stream",
     "text": [
      "Dropout: False, Accuracy: 0.8968\n",
      "Dropout: True, Accuracy: 0.8801\n"
     ]
    }
   ],
   "source": [
    "# B. Test presence or absence of regularization\n",
    "from keras.layers import Dropout\n",
    "use_dropout_options = [False, True]\n",
    "results = []\n",
    "\n",
    "for use_dropout in use_dropout_options:\n",
    "    model = Sequential()\n",
    "    model.add(Conv2D(32, (3, 3), activation='relu', input_shape=(28, 28, 1)))\n",
    "    if use_dropout:\n",
    "        model.add(Dropout(0.5))\n",
    "    model.add(Flatten())\n",
    "    model.add(Dense(64, activation='relu'))\n",
    "    if use_dropout:\n",
    "        model.add(Dropout(0.5))\n",
    "    model.add(Dense(10, activation='softmax'))\n",
    "\n",
    "    model.compile(optimizer='adam', loss='categorical_crossentropy', metrics=['accuracy'])\n",
    "    model.fit(X_train, y_train, epochs=3, batch_size=32, verbose=0)\n",
    "\n",
    "    test_loss, test_acc = model.evaluate(X_test, y_test, verbose=0)\n",
    "    results.append({'dropout': use_dropout, 'accuracy': test_acc})\n",
    "    print(f\"Dropout: {use_dropout}, Accuracy: {test_acc:.4f}\")"
   ]
  },
  {
   "cell_type": "markdown",
   "id": "cb426f26",
   "metadata": {},
   "source": [
    "Reflection: Report on the performance of the models you tested. Did any of the changes you made improve the model's performance? If so, which ones? What do you think contributed to these improvements? Finally, what combination of hyperparameters and regularization techniques yielded the best performance?\n",
    "\n",
    "**Your answer here**"
   ]
  },
  {
   "cell_type": "markdown",
   "id": "e51a89d7",
   "metadata": {},
   "source": [
    "The combination of Filters : 64 and no Dropout made the best accuracy. This combination provided enough capacity to learn rich features without introducing unnecessary regularization."
   ]
  },
  {
   "cell_type": "markdown",
   "id": "46c43a3d",
   "metadata": {},
   "source": [
    "# 5. Training Final Model and Evaluation\n",
    "\n",
    "In this section, you will train the final model using the best hyperparameters and regularization techniques you found in the previous section. You should:\n",
    "- [ ] Compile the final model with the best hyperparameters and regularization techniques.\n",
    "- [ ] Train the final model on the training set and evaluate it on the test set.\n",
    "- [ ] Report the final model's performance on the test set, including accuracy and any other relevant metrics."
   ]
  },
  {
   "cell_type": "code",
   "execution_count": 12,
   "id": "31f926d1",
   "metadata": {},
   "outputs": [
    {
     "name": "stdout",
     "output_type": "stream",
     "text": [
      "Epoch 1/5\n",
      "1875/1875 [==============================] - 95s 49ms/step - loss: 0.3853 - accuracy: 0.8630 - val_loss: 0.3228 - val_accuracy: 0.8819\n",
      "Epoch 2/5\n",
      "1875/1875 [==============================] - 108s 58ms/step - loss: 0.2589 - accuracy: 0.9047 - val_loss: 0.2953 - val_accuracy: 0.8931\n",
      "Epoch 3/5\n",
      "1875/1875 [==============================] - 80s 42ms/step - loss: 0.2056 - accuracy: 0.9246 - val_loss: 0.2766 - val_accuracy: 0.8995\n",
      "Epoch 4/5\n",
      "1875/1875 [==============================] - 82s 44ms/step - loss: 0.1696 - accuracy: 0.9369 - val_loss: 0.2896 - val_accuracy: 0.9000\n",
      "Epoch 5/5\n",
      "1875/1875 [==============================] - 121s 64ms/step - loss: 0.1359 - accuracy: 0.9496 - val_loss: 0.2966 - val_accuracy: 0.9036\n",
      "Final Test Accuracy: 0.9036\n",
      "Final Test Loss: 0.2966\n"
     ]
    }
   ],
   "source": [
    "# Build final model using best settings: 64 filters, no dropout\n",
    "final_model = Sequential()\n",
    "final_model.add(Conv2D(64, (3, 3), activation='relu', input_shape=(28, 28, 1)))\n",
    "final_model.add(Flatten())\n",
    "final_model.add(Dense(64, activation='relu'))\n",
    "final_model.add(Dense(10, activation='softmax'))\n",
    "\n",
    "# Compile the model\n",
    "final_model.compile(optimizer='adam', loss='categorical_crossentropy', metrics=['accuracy'])\n",
    "\n",
    "# Train the model\n",
    "final_model.fit(X_train, y_train, epochs=5, batch_size=32, validation_data=(X_test, y_test), verbose=1)\n",
    "\n",
    "# Evaluate on the test set\n",
    "test_loss, test_acc = final_model.evaluate(X_test, y_test, verbose=0)\n",
    "print(f\"Final Test Accuracy: {test_acc:.4f}\")\n",
    "print(f\"Final Test Loss: {test_loss:.4f}\")\n"
   ]
  },
  {
   "cell_type": "markdown",
   "id": "a01f8ebc",
   "metadata": {},
   "source": [
    "Reflection: How does the final model's performance compare to the baseline and the CNN model? What do you think contributed to the final model's performance? If you had time, what other experiments would you run to further improve the model's performance?\n",
    "\n",
    "**Your answer here**"
   ]
  },
  {
   "cell_type": "markdown",
   "id": "21a20bc9",
   "metadata": {},
   "source": [
    "First CNN model has significant imporvement over baseline regression model. Imporved CNN doesn't have a huge improvement over first CNN model accuracy. I guess, by investing more time investing on different combinations of hyper parameter, the CNN accuracy can further be improved. Playing with the kernel sizes, L2 regularization and other techniques like data augmentation methods shall be tried."
   ]
  },
  {
   "cell_type": "markdown",
   "id": "01db8512",
   "metadata": {},
   "source": [
    "🚨 **Please review our [Assignment Submission Guide](https://github.com/UofT-DSI/onboarding/blob/main/onboarding_documents/submissions.md)** 🚨 for detailed instructions on how to format, branch, and submit your work. Following these guidelines is crucial for your submissions to be evaluated correctly.\n",
    "### Submission Parameters:\n",
    "* Submission Due Date: `23:59 PM - 06/07/2025`\n",
    "* The branch name for your repo should be: `assignment-1`\n",
    "* What to submit for this assignment:\n",
    "    * This Jupyter Notebook (assignment_1.ipynb)\n",
    "    * The Lab 1 notebook (labs/lab_1.ipynb)\n",
    "    * The Lab 2 notebook (labs/lab_2.ipynb)\n",
    "* What the pull request link should look like for this assignment: `https://github.com/<your_github_username>/deep_learning/pull/<pr_id>`\n",
    "* Open a private window in your browser. Copy and paste the link to your pull request into the address bar. Make sure you can see your pull request properly. This helps the technical facilitator and learning support staff review your submission easily.\n",
    "Checklist:\n",
    "- [ ] Created a branch with the correct naming convention.\n",
    "- [ ] Ensured that the repository is public.\n",
    "- [ ] Reviewed the PR description guidelines and adhered to them.\n",
    "- [ ] Verify that the link is accessible in a private browser window.\n",
    "If you encounter any difficulties or have questions, please don't hesitate to reach out to our team via our Slack at `#cohort-6-ml-help`. Our Technical Facilitators and Learning Support staff are here to help you navigate any challenges."
   ]
  }
 ],
 "metadata": {
  "kernelspec": {
   "display_name": "dsi_participant",
   "language": "python",
   "name": "python3"
  },
  "language_info": {
   "codemirror_mode": {
    "name": "ipython",
    "version": 3
   },
   "file_extension": ".py",
   "mimetype": "text/x-python",
   "name": "python",
   "nbconvert_exporter": "python",
   "pygments_lexer": "ipython3",
   "version": "3.9.15"
  }
 },
 "nbformat": 4,
 "nbformat_minor": 5
}
